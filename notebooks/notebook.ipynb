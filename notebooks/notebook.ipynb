{
 "cells": [
  {
   "cell_type": "markdown",
   "metadata": {},
   "source": [
    "**Table of contents**<a id='toc0_'></a>    \n",
    "- 1. [Imports and Helper Functions](#toc1_)    \n",
    "  - 1.1. [Bibliotecas](#toc1_1_)    \n",
    "  - 1.2. [Helper Functions](#toc1_2_)    \n",
    "  - 1.3. [Dados](#toc1_3_)    \n",
    "- 2. [Data Description](#toc2_)    \n",
    "  - 2.1. [Safety Copy](#toc2_1_)    \n",
    "  - 2.2. [Adjusting the data](#toc2_2_)    \n",
    "  - 2.3. [Adjusting variable types](#toc2_3_)    \n",
    "  - 2.4. [Fillout NAs](#toc2_4_)    \n",
    "  - 2.5. [Some plots](#toc2_5_)    \n",
    "- 3. [Feature Engineering](#toc3_)    \n",
    "  - 3.1. [Hipothesis List](#toc3_1_)    \n",
    "    - 3.1.1. [Hipoteses Loja](#toc3_1_1_)    \n",
    "    - 3.1.2. [Hipoteses Produto](#toc3_1_2_)    \n",
    "    - 3.1.3. [Hipoteses Tempo](#toc3_1_3_)    \n",
    "    - 3.1.4. [Lista Final de Hipóteses](#toc3_1_4_)    \n",
    "  - 3.2. [Safety Copy](#toc3_2_)    \n",
    "  - 3.3. [Making up some new variables](#toc3_3_)    \n",
    "    - 3.3.1. [Splitting date into day, week_of_year, month and year variables](#toc3_3_1_)    \n",
    "    - 3.3.2. [Competition since](#toc3_3_2_)    \n",
    "    - 3.3.3. [Promo since](#toc3_3_3_)    \n",
    "    - 3.3.4. [Assortment type](#toc3_3_4_)    \n",
    "    - 3.3.5. [State holiday](#toc3_3_5_)    \n",
    "    - 3.3.6. [Saving and loading all the work done so far](#toc3_3_6_)    \n",
    "- 4. [Feature Filtering](#toc4_)    \n",
    "  - 4.1. [Safety copy](#toc4_1_)    \n",
    "  - 4.2. [Filtering lines](#toc4_2_)    \n",
    "  - 4.3. [Filtering columns](#toc4_3_)    \n",
    "  - 4.4. [Exporting pickle file](#toc4_4_)    \n",
    "- 5. [Exploratory Data Analysis (EDA)](#toc5_)    \n",
    "  - 5.1. [Safety copy](#toc5_1_)    \n",
    "  - 5.2. [Univariate analysis](#toc5_2_)    \n",
    "    - 5.2.1. [Target variable distribution](#toc5_2_1_)    \n",
    "    - 5.2.2. [Reporting with YData Profiling](#toc5_2_2_)    \n",
    "    - 5.2.3. [Numerical variables](#toc5_2_3_)    \n",
    "    - 5.2.4. [Categorical variables](#toc5_2_4_)    \n",
    "  - 5.3. [Bivariate analysis](#toc5_3_)    \n",
    "  - 5.4. [Testing some hypothesis](#toc5_4_)    \n",
    "    - 5.4.1. [<u>H01. Lojas com maior sortimentos deveriam vender mais.</u>](#toc5_4_1_)    \n",
    "    - 5.4.2. [<s>H02. Lojas com competidores mais próximos deveriam vender menos.</s>](#toc5_4_2_)    \n",
    "    - 5.4.3. [<u>H03. Lojas com competidores há mais tempo deveriam vender mais.</u>](#toc5_4_3_)    \n",
    "    - 5.4.4. [<s>H04. Lojas com promoções ativas por mais tempo deveriam vender mais.</s>](#toc5_4_4_)    \n",
    "    - 5.4.5. [H05. Lojas com mais dias de promoção deveriam vender mais.](#toc5_4_5_)    \n",
    "    - 5.4.6. [H06. Lojas com mais promoçòes consecutivas deveriam vender mais.](#toc5_4_6_)    \n",
    "    - 5.4.7. [<s>H07. Lojas abertas durante o feriado de Natal deveriam vender mais.</s>](#toc5_4_7_)    \n",
    "    - 5.4.8. [H08. Lojas deveriam vender mais ao longo dos anos.](#toc5_4_8_)    \n",
    "  - 5.5. [Multivariate analysis](#toc5_5_)    \n",
    "    - 5.5.1. [Multivariate numerical variable analysis](#toc5_5_1_)    \n",
    "    - 5.5.2. [Multivariate categorical variable analysis](#toc5_5_2_)    \n",
    "  - 5.6. [Export as pickle](#toc5_6_)    \n",
    "- 6. [Data Preparation](#toc6_)    \n",
    "  - 6.1. [Safety copy](#toc6_1_)    \n",
    "  - 6.2. [Normalization](#toc6_2_)    \n",
    "  - 6.3. [Rescaling](#toc6_3_)    \n",
    "  - 6.4. [Transformation](#toc6_4_)    \n",
    "- 7. [Feature Selection](#toc7_)    \n",
    "- 8. [Machine Learning Modelling](#toc8_)    \n",
    "- 9. [Hyperparameter Fine-Tuning](#toc9_)    \n",
    "- 10. [Error Interpretation](#toc10_)    \n",
    "- 11. [Model Deployment](#toc11_)    \n",
    "\n",
    "<!-- vscode-jupyter-toc-config\n",
    "\tnumbering=true\n",
    "\tanchor=true\n",
    "\tflat=false\n",
    "\tminLevel=1\n",
    "\tmaxLevel=6\n",
    "\t/vscode-jupyter-toc-config -->\n",
    "<!-- THIS CELL WILL BE REPLACED ON TOC UPDATE. DO NOT WRITE YOUR TEXT IN THIS CELL -->"
   ]
  },
  {
   "cell_type": "markdown",
   "metadata": {},
   "source": [
    "# 1. <a id='toc1_'></a>[Imports and Helper Functions](#toc0_)"
   ]
  },
  {
   "cell_type": "markdown",
   "metadata": {},
   "source": [
    "## 1.1. <a id='toc1_1_'></a>[Bibliotecas](#toc0_)"
   ]
  },
  {
   "cell_type": "code",
   "execution_count": 1,
   "metadata": {},
   "outputs": [],
   "source": [
    "import datetime\n",
    "import math\n",
    "import numpy  as np\n",
    "import pandas as pd\n",
    "import random\n",
    "import pickle\n",
    "import requests\n",
    "import warnings\n",
    "import inflection\n",
    "import seaborn as sns\n",
    "import xgboost as xgb\n",
    "\n",
    "from scipy                 import stats  as ss\n",
    "from boruta                import BorutaPy\n",
    "from matplotlib            import pyplot as plt\n",
    "from IPython.display       import Image\n",
    "from IPython.core.display  import HTML\n",
    "from ydata_profiling       import ProfileReport\n",
    "\n",
    "from sklearn.metrics       import mean_absolute_error, mean_squared_error\n",
    "from sklearn.ensemble      import RandomForestRegressor\n",
    "from sklearn.linear_model  import LinearRegression, Lasso\n",
    "from sklearn.preprocessing import RobustScaler, MinMaxScaler, LabelEncoder\n",
    "\n",
    "warnings.filterwarnings( 'ignore' )"
   ]
  },
  {
   "cell_type": "markdown",
   "metadata": {},
   "source": [
    "## 1.2. <a id='toc1_2_'></a>[Helper Functions](#toc0_)"
   ]
  },
  {
   "cell_type": "code",
   "execution_count": 2,
   "metadata": {},
   "outputs": [
    {
     "data": {
      "text/html": [
       "<style>.container { width:100% !important; }</style>"
      ],
      "text/plain": [
       "<IPython.core.display.HTML object>"
      ]
     },
     "metadata": {},
     "output_type": "display_data"
    }
   ],
   "source": [
    "def jupyter_configs():\n",
    "    plt.style.use( 'bmh' )\n",
    "    plt.rcParams['figure.figsize'] = [20, 12]\n",
    "    plt.rcParams['font.size'] = 24\n",
    "    \n",
    "    display( HTML( '<style>.container { width:100% !important; }</style>') )\n",
    "    pd.options.display.max_columns = None\n",
    "    pd.options.display.max_rows = None\n",
    "    pd.set_option( 'display.expand_frame_repr', False )\n",
    "    \n",
    "    sns.set()\n",
    "    \n",
    "jupyter_configs()"
   ]
  },
  {
   "cell_type": "markdown",
   "metadata": {},
   "source": [
    "## 1.3. <a id='toc1_3_'></a>[Dados](#toc0_)"
   ]
  },
  {
   "cell_type": "code",
   "execution_count": null,
   "metadata": {},
   "outputs": [],
   "source": [
    "# Load the data\n",
    "sales_data = pd.read_csv('~/repos/DS_em_Prod/dataset/train.csv', low_memory=False)\n",
    "store_data = pd.read_csv('~/repos/DS_em_Prod/dataset/store.csv', low_memory=False)"
   ]
  },
  {
   "cell_type": "code",
   "execution_count": null,
   "metadata": {},
   "outputs": [],
   "source": [
    "# Merge the store and sales dataframes\n",
    "raw_data = pd.merge(store_data, sales_data, how = 'left', on = 'Store')"
   ]
  },
  {
   "cell_type": "markdown",
   "metadata": {},
   "source": [
    "# 2. <a id='toc2_'></a>[Data Description](#toc0_)\n",
    "O objetivo aqui é averiguar por cima os dados disponíveis no dataframe, arrumar os nomes e tipos de colunas, converter algumas variáveis em variáveis mais informativas e fazer uma breve exploração visual dos dados."
   ]
  },
  {
   "cell_type": "markdown",
   "metadata": {},
   "source": [
    "## 2.1. <a id='toc2_1_'></a>[Safety Copy](#toc0_)"
   ]
  },
  {
   "cell_type": "code",
   "execution_count": null,
   "metadata": {},
   "outputs": [],
   "source": [
    "# Copying the dataframe\n",
    "df = raw_data.copy()"
   ]
  },
  {
   "cell_type": "markdown",
   "metadata": {},
   "source": [
    "## 2.2. <a id='toc2_2_'></a>[Adjusting the data](#toc0_)"
   ]
  },
  {
   "cell_type": "code",
   "execution_count": null,
   "metadata": {},
   "outputs": [],
   "source": [
    "# Renomeando as colunas\n",
    "cols_old = df.columns\n",
    "snakecase = lambda x: inflection.underscore(x)\n",
    "cols_new = list(map(snakecase, cols_old))\n",
    "cols_new"
   ]
  },
  {
   "cell_type": "code",
   "execution_count": null,
   "metadata": {},
   "outputs": [],
   "source": [
    "df.columns = cols_new"
   ]
  },
  {
   "cell_type": "code",
   "execution_count": null,
   "metadata": {},
   "outputs": [],
   "source": [
    "# O tamanho do df\n",
    "df.shape"
   ]
  },
  {
   "cell_type": "code",
   "execution_count": null,
   "metadata": {},
   "outputs": [],
   "source": [
    "# Breve descrição dos dados\n",
    "df.describe().T"
   ]
  },
  {
   "cell_type": "markdown",
   "metadata": {},
   "source": [
    "## 2.3. <a id='toc2_3_'></a>[Adjusting variable types](#toc0_)"
   ]
  },
  {
   "cell_type": "code",
   "execution_count": null,
   "metadata": {},
   "outputs": [],
   "source": [
    "# Inspecionando os tipos de cada variável\n",
    "df.dtypes\n",
    "\n",
    "# store                             int64  --->  \n",
    "# store_type                       object  --->  \n",
    "# assortment                       object  --->  \n",
    "# competition_distance            float64  --->  \n",
    "# competition_open_since_month    float64  --->  int64\n",
    "# competition_open_since_year     float64  --->  int64\n",
    "# promo2                            int64  --->  \n",
    "# promo2_since_week               float64  --->  int64\n",
    "# promo2_since_year               float64  --->  int64\n",
    "# promo_interval                   object  --->   \n",
    "# day_of_week                       int64  --->  \n",
    "# date                             object  --->  datetime\n",
    "# sales                             int64  --->  \n",
    "# customers                         int64  --->  \n",
    "# open                              int64  --->  \n",
    "# promo                             int64  --->  \n",
    "# state_holiday                    object  --->  \n",
    "# school_holiday                    int64  --->  "
   ]
  },
  {
   "cell_type": "code",
   "execution_count": null,
   "metadata": {},
   "outputs": [],
   "source": [
    "# Inspecionando a variável date\n",
    "df.date"
   ]
  },
  {
   "cell_type": "code",
   "execution_count": null,
   "metadata": {},
   "outputs": [],
   "source": [
    "# Convertendo os tipos de dados\n",
    "df['date'] = pd.to_datetime(df['date'])\n",
    "df['date']"
   ]
  },
  {
   "cell_type": "markdown",
   "metadata": {},
   "source": [
    "## 2.4. <a id='toc2_4_'></a>[Fillout NAs](#toc0_)"
   ]
  },
  {
   "cell_type": "code",
   "execution_count": null,
   "metadata": {},
   "outputs": [],
   "source": [
    "# Inspecionando os valores faltantes\n",
    "df.isnull().mean()\n",
    "\n",
    "# Há valores faltantes nas colunas:\n",
    "# [ x ]  competition_distance            0.002597 ----> distância até o concorrente\n",
    "# [ x ]  competition_open_since_month    0.317878 ----> mês em que a concorrência abriu\n",
    "# [ x ]  competition_open_since_year     0.317878 ----> ano em que a concorrência abriu\n",
    "# [ x ]  promo2_since_week               0.499436 ----> desde que semana do ano a promo extendida está aberta\n",
    "# [ x ]  promo2_since_year               0.499436 ----> desde que ano a promo extendida está aberta\n",
    "# [ x ]  promo_interval                  0.499436 ----> intervalo de promoções\n"
   ]
  },
  {
   "cell_type": "code",
   "execution_count": null,
   "metadata": {},
   "outputs": [],
   "source": [
    "# Imputando uma distância muito grande para o competition distance\n",
    "df['competition_distance'] = df['competition_distance'].apply(lambda x: 200000.0 if math.isnan(x) else x)"
   ]
  },
  {
   "cell_type": "code",
   "execution_count": null,
   "metadata": {},
   "outputs": [],
   "source": [
    "# Imputando o mês da venda no competition_open_since_month com NA\n",
    "df['competition_open_since_month'] = df.apply(lambda x: x['date'].month if math.isnan(x['competition_open_since_month']) else x['competition_open_since_month'], axis = 1)"
   ]
  },
  {
   "cell_type": "code",
   "execution_count": null,
   "metadata": {},
   "outputs": [],
   "source": [
    "# Imputando o ano da venda no competition_open_since_year com NA\n",
    "df['competition_open_since_year'] = df.apply(lambda x: x['date'].year if math.isnan(x['competition_open_since_year']) else x['competition_open_since_year'], axis=1)"
   ]
  },
  {
   "cell_type": "code",
   "execution_count": null,
   "metadata": {},
   "outputs": [],
   "source": [
    "# Imputando a semana do ano da venda para a coluna promo2_since_week com NAs\n",
    "df['promo2_since_week'] = df.apply(lambda x: x['date'].week if math.isnan(x['promo2_since_week']) else x['promo2_since_week'], axis = 1)"
   ]
  },
  {
   "cell_type": "code",
   "execution_count": null,
   "metadata": {},
   "outputs": [],
   "source": [
    "# Imputando a semana do ano da venda para a coluna promo2_since_year com NAs\n",
    "df['promo2_since_year'] = df.apply(lambda x: x['date'].year if math.isnan(x['promo2_since_year']) else x['promo2_since_year'], axis = 1)"
   ]
  },
  {
   "cell_type": "code",
   "execution_count": null,
   "metadata": {},
   "outputs": [],
   "source": [
    "# Criar uma nova coluna (is_promo) para informar, comparando a data da venda (date) com a os meses de intervalo da promoção (promo_interval), se a venda foi feita em período de promo (is_promo)\n",
    "month_map = {1: 'Jan',  2: 'Feb',  3: 'Mar',  4: 'Apr',  5: 'May',  6: 'Jun',  7: 'Jul',  8: 'Aug',  9: 'Sept',  10: 'Oct', 11: 'Nov', 12: 'Dec'}\n",
    "\n",
    "df['promo_interval'].fillna(0, inplace=True )\n",
    "\n",
    "df['month_map'] = df['date'].dt.month.map( month_map )\n",
    "\n",
    "df['is_promo'] = df.apply(lambda x: 0 if x['promo_interval'] == 0 else 1 if x['month_map'] in x['promo_interval'] else 0, axis=1)\n",
    "\n",
    "df.sample(10)"
   ]
  },
  {
   "cell_type": "code",
   "execution_count": null,
   "metadata": {},
   "outputs": [],
   "source": [
    "# Conferindo se todos os NAs foram removidos corretamente\n",
    "df.isna().sum()"
   ]
  },
  {
   "cell_type": "code",
   "execution_count": null,
   "metadata": {},
   "outputs": [],
   "source": [
    "# Verificando os tipos de dados novamente\n",
    "df.dtypes"
   ]
  },
  {
   "cell_type": "code",
   "execution_count": null,
   "metadata": {},
   "outputs": [],
   "source": [
    "# Corrigindo os tipos de dados que ainda falatavam ser corrigidos\n",
    "df['competition_open_since_month'] = df['competition_open_since_month'].astype('int64')\n",
    "df['competition_open_since_year'] = df['competition_open_since_year'].astype('int64')\n",
    "df['promo2_since_week'] = df['promo2_since_week'].astype('int64')\n",
    "df['promo2_since_year'] = df['promo2_since_year'].astype('int64')\n",
    "df.dtypes"
   ]
  },
  {
   "cell_type": "markdown",
   "metadata": {},
   "source": [
    "## 2.5. <a id='toc2_5_'></a>[Some plots](#toc0_)"
   ]
  },
  {
   "cell_type": "code",
   "execution_count": null,
   "metadata": {},
   "outputs": [],
   "source": [
    "sns.histplot( df['competition_distance'], kde=True )"
   ]
  },
  {
   "cell_type": "code",
   "execution_count": null,
   "metadata": {},
   "outputs": [],
   "source": [
    "# Averiguar algumas variáveis categóricas e sua distribuição de dados:\n",
    "aux = df[(df['school_holiday'] != 0) & (df['sales'] != 0)]\n",
    "# State holiday\n",
    "plt.subplot( 1, 3, 1 )\n",
    "sns.boxplot( x='state_holiday', y='sales', data=aux )\n",
    "# Store type\n",
    "plt.subplot( 1, 3, 2 )\n",
    "sns.boxplot( x='store_type', y='sales', data=aux )\n",
    "# Assortment\n",
    "plt.subplot( 1, 3, 3 )\n",
    "sns.boxplot( x='assortment', y='sales', data=aux )"
   ]
  },
  {
   "cell_type": "markdown",
   "metadata": {},
   "source": [
    "# 3. <a id='toc3_'></a>[Feature Engineering](#toc0_)\n",
    "Agora que temos umas ideia de o que são os dados e as variáveis que temos disponíveis além de sua distribuição, podemos criar hipóteses a serem testadas considerando os dados disponíveis, bem como derivar novas variáveis que possam vir a nos ajudar. É interessante, aqui, criar um mapa mental de hipóteses a serem testadas.\n",
    "\n",
    "Precisaremos:\n",
    "- [x] Separar a coluna 'date' em:\n",
    "  - day\n",
    "  - month\n",
    "  - year\n",
    "  - week\n",
    "  - year-week\n",
    "- [ ] Transformar assortment em numérica (int64)\n",
    "- [ ] Transformar state_holiday em numérica (int64)\n",
    "- [ ] Criar uma coluna de tempo desde a promoção (promo_since)\n",
    "- [ ] Criar uma coluna de tempo desde a competição (competition_since)"
   ]
  },
  {
   "cell_type": "markdown",
   "metadata": {},
   "source": [
    "## 3.1. <a id='toc3_1_'></a>[Hipothesis List](#toc0_)"
   ]
  },
  {
   "cell_type": "markdown",
   "metadata": {},
   "source": [
    "### 3.1.1. <a id='toc3_1_1_'></a>[Hipoteses Loja](#toc0_)"
   ]
  },
  {
   "cell_type": "markdown",
   "metadata": {},
   "source": [
    "**1.** Lojas com número maior de funcionários deveriam vender mais.\n",
    "\n",
    "**2.** Lojas com maior capacidade de estoque deveriam vender mais.\n",
    "\n",
    "**3.** Lojas com maior porte deveriam vender mais.\n",
    "\n",
    "**4.** Lojas com maior sortimentos deveriam vender mais.\n",
    "\n",
    "**5.** Lojas com competidores mais próximos deveriam vender menos.\n",
    "\n",
    "**6.** Lojas com competidores à mais tempo deveriam vendem mais."
   ]
  },
  {
   "cell_type": "markdown",
   "metadata": {},
   "source": [
    "### 3.1.2. <a id='toc3_1_2_'></a>[Hipoteses Produto](#toc0_)"
   ]
  },
  {
   "cell_type": "markdown",
   "metadata": {},
   "source": [
    "**1.** Lojas que investem mais em Marketing deveriam vender mais.\n",
    "\n",
    "**2.** Lojas com maior exposição de produto deveriam vender mais.\n",
    "\n",
    "**3.** Lojas com produtos com preço menor deveriam vender mais.\n",
    "\n",
    "**5.** Lojas com promoções mais agressivas ( descontos maiores ), deveriam vender mais.\n",
    "\n",
    "**6.** Lojas com promoções ativas por mais tempo deveriam vender mais.\n",
    "\n",
    "**7.** Lojas com mais dias de promoção deveriam vender mais.\n",
    "\n",
    "**8.** Lojas com mais promoções consecutivas deveriam vender mais."
   ]
  },
  {
   "cell_type": "markdown",
   "metadata": {},
   "source": [
    "### 3.1.3. <a id='toc3_1_3_'></a>[Hipoteses Tempo](#toc0_)"
   ]
  },
  {
   "cell_type": "markdown",
   "metadata": {},
   "source": [
    "**1.** Lojas abertas durante o feriado de Natal deveriam vender mais.\n",
    "\n",
    "**2.** Lojas deveriam vender mais ao longo dos anos.\n",
    "\n",
    "**3.** Lojas deveriam vender mais no segundo semestre do ano.\n",
    "\n",
    "**4.** Lojas deveriam vender mais depois do dia 10 de cada mês.\n",
    "\n",
    "**5.** Lojas deveriam vender menos aos finais de semana.\n",
    "\n",
    "**6.** Lojas deveriam vender menos durante os feriados escolares."
   ]
  },
  {
   "cell_type": "markdown",
   "metadata": {},
   "source": [
    "### 3.1.4. <a id='toc3_1_4_'></a>[Lista Final de Hipóteses](#toc0_)"
   ]
  },
  {
   "cell_type": "markdown",
   "metadata": {},
   "source": [
    "**1.** Lojas com maior sortimentos deveriam vender mais.\n",
    "\n",
    "**2.** Lojas com competidores mais próximos deveriam vender menos.\n",
    "\n",
    "**3.** Lojas com competidores à mais tempo deveriam vendem mais."
   ]
  },
  {
   "cell_type": "markdown",
   "metadata": {},
   "source": [
    "**4.** Lojas com promoções ativas por mais tempo deveriam vender mais.\n",
    "\n",
    "**5.** Lojas com mais dias de promoção deveriam vender mais.\n",
    "\n",
    "**7.** Lojas com mais promoções consecutivas deveriam vender mais."
   ]
  },
  {
   "cell_type": "markdown",
   "metadata": {},
   "source": [
    "**8.** Lojas abertas durante o feriado de Natal deveriam vender mais.\n",
    "\n",
    "**9.** Lojas deveriam vender mais ao longo dos anos.\n",
    "\n",
    "**10.** Lojas deveriam vender mais no segundo semestre do ano.\n",
    "\n",
    "**11.** Lojas deveriam vender mais depois do dia 10 de cada mês.\n",
    "\n",
    "**12.** Lojas deveriam vender menos aos finais de semana.\n",
    "\n",
    "**13.** Lojas deveriam vender menos durante os feriados escolares.\n"
   ]
  },
  {
   "cell_type": "markdown",
   "metadata": {},
   "source": [
    "## 3.2. <a id='toc3_2_'></a>[Safety Copy](#toc0_)"
   ]
  },
  {
   "cell_type": "code",
   "execution_count": null,
   "metadata": {},
   "outputs": [],
   "source": [
    "df03 = df.copy()"
   ]
  },
  {
   "cell_type": "code",
   "execution_count": null,
   "metadata": {},
   "outputs": [],
   "source": [
    "df03.head(1)"
   ]
  },
  {
   "cell_type": "markdown",
   "metadata": {},
   "source": [
    "## 3.3. <a id='toc3_3_'></a>[Making up some new variables](#toc0_)"
   ]
  },
  {
   "cell_type": "markdown",
   "metadata": {},
   "source": [
    "### 3.3.1. <a id='toc3_3_1_'></a>[Splitting date into day, week_of_year, month and year variables](#toc0_)"
   ]
  },
  {
   "cell_type": "code",
   "execution_count": null,
   "metadata": {},
   "outputs": [],
   "source": [
    "# Criando a variável year\n",
    "df03['year'] = df03['date'].dt.year\n",
    "\n",
    "# Criando a variável month\n",
    "df03['month'] = df03['date'].dt.month\n",
    "\n",
    "# Criando a variável day\n",
    "df03['day'] = df03['date'].dt.day\n",
    "\n",
    "# Criando a variável week_of_year\n",
    "df03['week_of_year'] = df03['date'].dt.isocalendar().week\n",
    "\n",
    "# Criando a variável year_week\n",
    "df03['year_week'] = df03['date'].dt.strftime('%Y-%U')"
   ]
  },
  {
   "cell_type": "code",
   "execution_count": null,
   "metadata": {},
   "outputs": [],
   "source": [
    "df03.sample(5).T"
   ]
  },
  {
   "cell_type": "markdown",
   "metadata": {},
   "source": [
    "### 3.3.2. <a id='toc3_3_2_'></a>[Competition since](#toc0_)"
   ]
  },
  {
   "cell_type": "code",
   "execution_count": null,
   "metadata": {},
   "outputs": [],
   "source": [
    "df03['competition_since'] = df03.apply( lambda x: datetime.datetime( year=x['competition_open_since_year'], month=x['competition_open_since_month'], day=1 ), axis=1 )\n",
    "df03['competition_time_month'] = ( ( df03['date'] - df03['competition_since'] )/30 ).apply( lambda x: x.days ).astype( int )"
   ]
  },
  {
   "cell_type": "markdown",
   "metadata": {},
   "source": [
    "### 3.3.3. <a id='toc3_3_3_'></a>[Promo since](#toc0_)"
   ]
  },
  {
   "cell_type": "code",
   "execution_count": null,
   "metadata": {},
   "outputs": [],
   "source": [
    "df03['promo_since'] = df03['promo2_since_year'].astype( str ) + '-' + df03['promo2_since_week'].astype( str )\n",
    "df03['promo_since'] = df03['promo_since'].apply( lambda x: datetime.datetime.strptime( x + '-1', '%Y-%W-%w' ) - datetime.timedelta( days=7 ) )\n",
    "df03['promo_time_week'] = ( ( df03['date'] - df03['promo_since'] )/7 ).apply( lambda x: x.days ).astype( int )"
   ]
  },
  {
   "cell_type": "code",
   "execution_count": null,
   "metadata": {},
   "outputs": [],
   "source": [
    "# if df03['date'].dt.year == df03['promo2_since_year']:\n",
    "#     df03['week_of_year']\n",
    "# else:\n",
    "#     tempo_promo = df03['date'].dt.year - df03['promo2_since_year']\n",
    "    \n",
    "# lambda x: df03['week_of_year'] if df03['date'].dt.year == df03['promo2_since_year'] else df03['year'] - df03['promo2_since_year']\n"
   ]
  },
  {
   "cell_type": "markdown",
   "metadata": {},
   "source": [
    "### 3.3.4. <a id='toc3_3_4_'></a>[Assortment type](#toc0_)"
   ]
  },
  {
   "cell_type": "code",
   "execution_count": null,
   "metadata": {},
   "outputs": [],
   "source": [
    "df03['assortment'] = df03['assortment'].apply( lambda x: 'basic' if x == 'a' else 'extra' if x == 'b' else 'extended' )"
   ]
  },
  {
   "cell_type": "markdown",
   "metadata": {},
   "source": [
    "### 3.3.5. <a id='toc3_3_5_'></a>[State holiday](#toc0_)"
   ]
  },
  {
   "cell_type": "code",
   "execution_count": null,
   "metadata": {},
   "outputs": [],
   "source": [
    "df03['state_holiday'].unique()"
   ]
  },
  {
   "cell_type": "code",
   "execution_count": null,
   "metadata": {},
   "outputs": [],
   "source": [
    "df03['state_holiday'] = df03['state_holiday'].apply( lambda x: 'public_holiday' if x == 'a' else 'easter_holiday' if x == 'b' else 'christmas' if x == 'c' else 'regular_day' )"
   ]
  },
  {
   "cell_type": "code",
   "execution_count": null,
   "metadata": {},
   "outputs": [],
   "source": [
    "df03['state_holiday']"
   ]
  },
  {
   "cell_type": "markdown",
   "metadata": {},
   "source": [
    "### 3.3.6. <a id='toc3_3_6_'></a>[Saving and loading all the work done so far](#toc0_)"
   ]
  },
  {
   "cell_type": "code",
   "execution_count": null,
   "metadata": {},
   "outputs": [],
   "source": [
    "# First we verify if everything is allright\n",
    "df03.sample(3).T"
   ]
  },
  {
   "cell_type": "code",
   "execution_count": null,
   "metadata": {},
   "outputs": [],
   "source": [
    "# Salvando os objetos criados até aqui\n",
    "\n",
    "# with open('df03.pkl', 'wb') as f:\n",
    "#     pickle.dump(df03, f)\n",
    "# f.close()\n",
    "\n",
    "df03.to_pickle(\"df03.pkl\")"
   ]
  },
  {
   "cell_type": "code",
   "execution_count": null,
   "metadata": {},
   "outputs": [],
   "source": [
    "# Carregando os objetos salvos\n",
    "\n",
    "# with open('df03.pkl', 'rb') as f:\n",
    "#     df03 = pickle.load(f)\n",
    "# f.close\n",
    "\n",
    "df_03 = pd.read_pickle(\"df03.pkl\")"
   ]
  },
  {
   "cell_type": "markdown",
   "metadata": {},
   "source": [
    "# 4. <a id='toc4_'></a>[Feature Filtering](#toc0_)"
   ]
  },
  {
   "cell_type": "markdown",
   "metadata": {},
   "source": [
    "## 4.1. <a id='toc4_1_'></a>[Safety copy](#toc0_)"
   ]
  },
  {
   "cell_type": "code",
   "execution_count": null,
   "metadata": {},
   "outputs": [],
   "source": [
    "df04 = df03.copy()"
   ]
  },
  {
   "cell_type": "markdown",
   "metadata": {},
   "source": [
    "## 4.2. <a id='toc4_2_'></a>[Filtering lines](#toc0_)"
   ]
  },
  {
   "cell_type": "code",
   "execution_count": null,
   "metadata": {},
   "outputs": [],
   "source": [
    "df04 = df04[(df04['open'] != 0) & (df04['sales'] > 0)]"
   ]
  },
  {
   "cell_type": "markdown",
   "metadata": {},
   "source": [
    "## 4.3. <a id='toc4_3_'></a>[Filtering columns](#toc0_)"
   ]
  },
  {
   "cell_type": "code",
   "execution_count": null,
   "metadata": {},
   "outputs": [],
   "source": [
    "cols_drop = ['customers', 'open', 'promo_interval', 'month_map']\n",
    "df04 = df04.drop( cols_drop, axis=1 )"
   ]
  },
  {
   "cell_type": "markdown",
   "metadata": {},
   "source": [
    "## 4.4. <a id='toc4_4_'></a>[Exporting pickle file](#toc0_)"
   ]
  },
  {
   "cell_type": "code",
   "execution_count": null,
   "metadata": {},
   "outputs": [],
   "source": [
    "df04.to_pickle('df04.pkl')"
   ]
  },
  {
   "cell_type": "code",
   "execution_count": null,
   "metadata": {},
   "outputs": [],
   "source": [
    "# df04 = pd.read_pickle('df04.pkl')"
   ]
  },
  {
   "cell_type": "markdown",
   "metadata": {},
   "source": [
    "# 5. <a id='toc5_'></a>[Exploratory Data Analysis (EDA)](#toc0_)"
   ]
  },
  {
   "cell_type": "markdown",
   "metadata": {},
   "source": [
    "## 5.1. <a id='toc5_1_'></a>[Safety copy](#toc0_)"
   ]
  },
  {
   "cell_type": "code",
   "execution_count": null,
   "metadata": {},
   "outputs": [],
   "source": [
    "df05 = df04.copy()"
   ]
  },
  {
   "cell_type": "markdown",
   "metadata": {},
   "source": [
    "## 5.2. <a id='toc5_2_'></a>[Univariate analysis](#toc0_)"
   ]
  },
  {
   "cell_type": "markdown",
   "metadata": {},
   "source": [
    "### 5.2.1. <a id='toc5_2_1_'></a>[Target variable distribution](#toc0_)"
   ]
  },
  {
   "cell_type": "code",
   "execution_count": null,
   "metadata": {},
   "outputs": [],
   "source": [
    "sns.histplot(data = df05,\n",
    "             x = 'sales',\n",
    "             bins = 100)"
   ]
  },
  {
   "cell_type": "markdown",
   "metadata": {},
   "source": [
    "### 5.2.2. <a id='toc5_2_2_'></a>[Reporting with YData Profiling](#toc0_)"
   ]
  },
  {
   "cell_type": "code",
   "execution_count": null,
   "metadata": {},
   "outputs": [],
   "source": [
    "report = ProfileReport(df05, title='Report')\n",
    "report"
   ]
  },
  {
   "cell_type": "code",
   "execution_count": null,
   "metadata": {},
   "outputs": [],
   "source": [
    "report.to_file(\"your_report.html\")"
   ]
  },
  {
   "cell_type": "markdown",
   "metadata": {},
   "source": [
    "### 5.2.3. <a id='toc5_2_3_'></a>[Numerical variables](#toc0_)\n"
   ]
  },
  {
   "cell_type": "code",
   "execution_count": null,
   "metadata": {},
   "outputs": [],
   "source": [
    "num_variables = df05.select_dtypes( include=['int64', 'float64'] )"
   ]
  },
  {
   "cell_type": "code",
   "execution_count": null,
   "metadata": {},
   "outputs": [],
   "source": [
    "num_variables.hist(bins=25);"
   ]
  },
  {
   "cell_type": "markdown",
   "metadata": {},
   "source": [
    "### 5.2.4. <a id='toc5_2_4_'></a>[Categorical variables](#toc0_)"
   ]
  },
  {
   "cell_type": "code",
   "execution_count": null,
   "metadata": {},
   "outputs": [],
   "source": [
    "# state_holiday\n",
    "plt.subplot( 3, 2, 1 )\n",
    "a = df05[df05['state_holiday'] != 'regular_day']\n",
    "sns.countplot(data = a, x= a['state_holiday'] )\n",
    "\n",
    "plt.subplot( 3, 2, 2 )\n",
    "sns.kdeplot( df05[df05['state_holiday'] == 'public_holiday']['sales'], label='public_holiday', shade=True )\n",
    "sns.kdeplot( df05[df05['state_holiday'] == 'easter_holiday']['sales'], label='easter_holiday', shade=True )\n",
    "sns.kdeplot( df05[df05['state_holiday'] == 'christmas']['sales'], label='christmas', shade=True )\n",
    "\n",
    "# store_type\n",
    "plt.subplot( 3, 2, 3 )\n",
    "sns.countplot( data = df05, x = df05['store_type'] )\n",
    "\n",
    "plt.subplot( 3, 2, 4 )\n",
    "sns.kdeplot( df05[df05['store_type'] == 'a']['sales'], label='a', shade=True )\n",
    "sns.kdeplot( df05[df05['store_type'] == 'b']['sales'], label='b', shade=True )\n",
    "sns.kdeplot( df05[df05['store_type'] == 'c']['sales'], label='c', shade=True )\n",
    "sns.kdeplot( df05[df05['store_type'] == 'd']['sales'], label='d', shade=True )\n",
    "\n",
    "# assortment\n",
    "plt.subplot( 3, 2, 5 )\n",
    "sns.countplot(data = df05, x = df05['assortment'] )\n",
    "\n",
    "plt.subplot( 3, 2, 6 )\n",
    "sns.kdeplot( df05[df05['assortment'] == 'extended']['sales'], label='extended', shade=True )\n",
    "sns.kdeplot( df05[df05['assortment'] == 'basic']['sales'], label='basic', shade=True )\n",
    "sns.kdeplot( df05[df05['assortment'] == 'extra']['sales'], label='extra', shade=True )"
   ]
  },
  {
   "cell_type": "markdown",
   "metadata": {},
   "source": [
    "## 5.3. <a id='toc5_3_'></a>[Bivariate analysis](#toc0_)"
   ]
  },
  {
   "cell_type": "markdown",
   "metadata": {},
   "source": [
    "## 5.4. <a id='toc5_4_'></a>[Testing some hypothesis](#toc0_)"
   ]
  },
  {
   "cell_type": "code",
   "execution_count": null,
   "metadata": {},
   "outputs": [],
   "source": [
    "df05.columns"
   ]
  },
  {
   "cell_type": "markdown",
   "metadata": {},
   "source": [
    "### 5.4.1. <a id='toc5_4_1_'></a>[<u>H01. Lojas com maior sortimentos deveriam vender mais.</u>](#toc0_)\n",
    "- A soma das vendas por sortimentos mostra que o tipo que vende menos, em média é o sortimento **a**, seguido por **c** e então **b**.\n",
    "- Contudo considerando a soma das vendas, o sortimento que vende menos é **b**, seguido de **c** e **a** praticamente empatados.\n",
    "- Os sortimentos que realizam menos vendas são **b**, **c** e **a**.\n",
    "- As vendas das lojas de sortimento **a** e **c** tendem a ser afetadas por mais outliers."
   ]
  },
  {
   "cell_type": "code",
   "execution_count": null,
   "metadata": {},
   "outputs": [],
   "source": [
    "aux = df05[['assortment', 'sales']].groupby('assortment').mean().reset_index()\n",
    "aux"
   ]
  },
  {
   "cell_type": "code",
   "execution_count": null,
   "metadata": {},
   "outputs": [],
   "source": [
    "aux = df05[['assortment', 'sales']].groupby('assortment').sum().reset_index()\n",
    "aux"
   ]
  },
  {
   "cell_type": "code",
   "execution_count": null,
   "metadata": {},
   "outputs": [],
   "source": [
    "aux = df05[['assortment', 'sales']].groupby('assortment').count().reset_index()\n",
    "aux"
   ]
  },
  {
   "cell_type": "code",
   "execution_count": null,
   "metadata": {},
   "outputs": [],
   "source": [
    "sns.boxplot(data = df05,\n",
    "            x = 'assortment',\n",
    "            y = 'sales')"
   ]
  },
  {
   "cell_type": "markdown",
   "metadata": {},
   "source": [
    "### 5.4.2. <a id='toc5_4_2_'></a>[<s>H02. Lojas com competidores mais próximos deveriam vender menos.</s>](#toc0_)\n",
    "- Parece haver uma tendência inversamente proporcional entre a distância do competidor e as vendas, contrariando as expectativas."
   ]
  },
  {
   "cell_type": "code",
   "execution_count": null,
   "metadata": {},
   "outputs": [],
   "source": [
    "aux = df05[(df05['sales']!=0) & (df05['competition_distance']!=0)]"
   ]
  },
  {
   "cell_type": "code",
   "execution_count": null,
   "metadata": {},
   "outputs": [],
   "source": [
    "sns.scatterplot(data = aux,\n",
    "                x = 'competition_distance',\n",
    "                y = 'sales',\n",
    "                s = 150,\n",
    "                hue = 'assortment',\n",
    "                alpha = 0.3);"
   ]
  },
  {
   "cell_type": "markdown",
   "metadata": {},
   "source": [
    "### 5.4.3. <a id='toc5_4_3_'></a>[<u>H03. Lojas com competidores há mais tempo deveriam vender mais.</u>](#toc0_)\n",
    "- Contradizendo mais uma vez o esperado, há uma tendência de que lojas com competidores mais recentes vendam mais."
   ]
  },
  {
   "cell_type": "code",
   "execution_count": null,
   "metadata": {},
   "outputs": [],
   "source": [
    "aux = df05[df05['sales']!= 0]\n",
    "# df05[['competition_open_since_year', 'sales']]"
   ]
  },
  {
   "cell_type": "code",
   "execution_count": null,
   "metadata": {},
   "outputs": [],
   "source": [
    "aux['competition_timespan'] = aux['date'].dt.year - aux['competition_open_since_year']"
   ]
  },
  {
   "cell_type": "code",
   "execution_count": null,
   "metadata": {},
   "outputs": [],
   "source": [
    "sns.scatterplot(data = aux,\n",
    "                x = 'competition_timespan',\n",
    "                y = 'sales',\n",
    "                s = 150,\n",
    "                alpha = .3,\n",
    "                hue = 'assortment');"
   ]
  },
  {
   "cell_type": "markdown",
   "metadata": {},
   "source": [
    "### 5.4.4. <a id='toc5_4_4_'></a>[<s>H04. Lojas com promoções ativas por mais tempo deveriam vender mais.</s>](#toc0_)\n",
    "- Não parece haver uma relação direta entre a duração das promoções e as vendas"
   ]
  },
  {
   "cell_type": "code",
   "execution_count": null,
   "metadata": {},
   "outputs": [],
   "source": [
    "sns.scatterplot(data = df05,\n",
    "                x = 'competition_time_month',\n",
    "                y = 'sales',\n",
    "                s = 150,\n",
    "                hue = 'assortment',\n",
    "                alpha = .3)"
   ]
  },
  {
   "cell_type": "markdown",
   "metadata": {},
   "source": [
    "### 5.4.5. <a id='toc5_4_5_'></a>[H05. Lojas com mais dias de promoção deveriam vender mais.](#toc0_)"
   ]
  },
  {
   "cell_type": "code",
   "execution_count": null,
   "metadata": {},
   "outputs": [],
   "source": []
  },
  {
   "cell_type": "markdown",
   "metadata": {},
   "source": [
    "### 5.4.6. <a id='toc5_4_6_'></a>[H06. Lojas com mais promoçòes consecutivas deveriam vender mais.](#toc0_)"
   ]
  },
  {
   "cell_type": "code",
   "execution_count": null,
   "metadata": {},
   "outputs": [],
   "source": []
  },
  {
   "cell_type": "markdown",
   "metadata": {},
   "source": [
    "### 5.4.7. <a id='toc5_4_7_'></a>[<s>H07. Lojas abertas durante o feriado de Natal deveriam vender mais.</s>](#toc0_)\n",
    "- Embora as vendas no Natal sejam relativamente altas, não são as campeãs de vendas, perdendo para a a Páscoa"
   ]
  },
  {
   "cell_type": "code",
   "execution_count": null,
   "metadata": {},
   "outputs": [],
   "source": [
    "sns.boxplot(data = df05[(df05['sales'] != 0)],\n",
    "            x = 'state_holiday',\n",
    "            y = 'sales')"
   ]
  },
  {
   "cell_type": "markdown",
   "metadata": {},
   "source": [
    "### 5.4.8. <a id='toc5_4_8_'></a>[H08. Lojas deveriam vender mais ao longo dos anos.](#toc0_)"
   ]
  },
  {
   "cell_type": "code",
   "execution_count": null,
   "metadata": {},
   "outputs": [],
   "source": []
  },
  {
   "cell_type": "code",
   "execution_count": null,
   "metadata": {},
   "outputs": [],
   "source": []
  },
  {
   "cell_type": "code",
   "execution_count": null,
   "metadata": {},
   "outputs": [],
   "source": []
  },
  {
   "cell_type": "code",
   "execution_count": null,
   "metadata": {},
   "outputs": [],
   "source": []
  },
  {
   "cell_type": "code",
   "execution_count": null,
   "metadata": {},
   "outputs": [],
   "source": []
  },
  {
   "cell_type": "markdown",
   "metadata": {},
   "source": [
    "## 5.5. <a id='toc5_5_'></a>[Multivariate analysis](#toc0_)"
   ]
  },
  {
   "cell_type": "markdown",
   "metadata": {},
   "source": [
    "### 5.5.1. <a id='toc5_5_1_'></a>[Multivariate numerical variable analysis](#toc0_)"
   ]
  },
  {
   "cell_type": "code",
   "execution_count": null,
   "metadata": {},
   "outputs": [],
   "source": [
    "correlation = num_variables.corr( method='pearson' )\n",
    "sns.heatmap( correlation, annot=True );"
   ]
  },
  {
   "cell_type": "markdown",
   "metadata": {},
   "source": [
    "### 5.5.2. <a id='toc5_5_2_'></a>[Multivariate categorical variable analysis](#toc0_)"
   ]
  },
  {
   "cell_type": "code",
   "execution_count": null,
   "metadata": {},
   "outputs": [],
   "source": [
    "# # only categorical data\n",
    "# a = df4.select_dtypes( include='object' )\n",
    "\n",
    "# # Calculate cramer V\n",
    "# a1 = cramer_v( a['state_holiday'], a['state_holiday'] )\n",
    "# a2 = cramer_v( a['state_holiday'], a['store_type'] )\n",
    "# a3 = cramer_v( a['state_holiday'], a['assortment'] )\n",
    "\n",
    "# a4 = cramer_v( a['store_type'], a['state_holiday'] )\n",
    "# a5 = cramer_v( a['store_type'], a['store_type'] )\n",
    "# a6 = cramer_v( a['store_type'], a['assortment'] )\n",
    "\n",
    "# a7 = cramer_v( a['assortment'], a['state_holiday'] )\n",
    "# a8 = cramer_v( a['assortment'], a['store_type'] )\n",
    "# a9 = cramer_v( a['assortment'], a['assortment'] )\n",
    "\n",
    "# # Final dataset\n",
    "# d = pd.DataFrame( {'state_holiday': [a1, a2, a3], \n",
    "#                'store_type': [a4, a5, a6],\n",
    "#                'assortment': [a7, a8, a9]  })\n",
    "# d = d.set_index( d.columns )\n",
    "\n",
    "# sns.heatmap( d, annot=True )"
   ]
  },
  {
   "cell_type": "markdown",
   "metadata": {},
   "source": [
    "## 5.6. <a id='toc5_6_'></a>[Export as pickle](#toc0_)"
   ]
  },
  {
   "cell_type": "code",
   "execution_count": null,
   "metadata": {},
   "outputs": [],
   "source": [
    "df05.to_pickle('df05.pkl')"
   ]
  },
  {
   "cell_type": "markdown",
   "metadata": {},
   "source": [
    "# 6. <a id='toc6_'></a>[Data Preparation](#toc0_)"
   ]
  },
  {
   "cell_type": "markdown",
   "metadata": {},
   "source": [
    "## 6.1. <a id='toc6_1_'></a>[Safety copy](#toc0_)"
   ]
  },
  {
   "cell_type": "code",
   "execution_count": null,
   "metadata": {},
   "outputs": [],
   "source": [
    "df06 = pd.read_pickle('df05.pkl')"
   ]
  },
  {
   "cell_type": "code",
   "execution_count": null,
   "metadata": {},
   "outputs": [],
   "source": [
    "df06.head().T"
   ]
  },
  {
   "cell_type": "markdown",
   "metadata": {},
   "source": [
    "## 6.2. <a id='toc6_2_'></a>[Normalization](#toc0_)"
   ]
  },
  {
   "cell_type": "code",
   "execution_count": null,
   "metadata": {},
   "outputs": [],
   "source": []
  },
  {
   "cell_type": "markdown",
   "metadata": {},
   "source": [
    "## 6.3. <a id='toc6_3_'></a>[Rescaling](#toc0_)"
   ]
  },
  {
   "cell_type": "code",
   "execution_count": null,
   "metadata": {},
   "outputs": [],
   "source": []
  },
  {
   "cell_type": "markdown",
   "metadata": {},
   "source": [
    "## 6.4. <a id='toc6_4_'></a>[Transformation](#toc0_)"
   ]
  },
  {
   "cell_type": "code",
   "execution_count": null,
   "metadata": {},
   "outputs": [],
   "source": []
  },
  {
   "cell_type": "code",
   "execution_count": null,
   "metadata": {},
   "outputs": [],
   "source": []
  },
  {
   "cell_type": "code",
   "execution_count": null,
   "metadata": {},
   "outputs": [],
   "source": []
  },
  {
   "cell_type": "code",
   "execution_count": null,
   "metadata": {},
   "outputs": [],
   "source": []
  },
  {
   "cell_type": "code",
   "execution_count": null,
   "metadata": {},
   "outputs": [],
   "source": []
  },
  {
   "cell_type": "code",
   "execution_count": null,
   "metadata": {},
   "outputs": [],
   "source": []
  },
  {
   "cell_type": "markdown",
   "metadata": {},
   "source": [
    "# 7. <a id='toc7_'></a>[Feature Selection](#toc0_)"
   ]
  },
  {
   "cell_type": "markdown",
   "metadata": {},
   "source": [
    "# 8. <a id='toc8_'></a>[Machine Learning Modelling](#toc0_)"
   ]
  },
  {
   "cell_type": "markdown",
   "metadata": {},
   "source": [
    "# 9. <a id='toc9_'></a>[Hyperparameter Fine-Tuning](#toc0_)"
   ]
  },
  {
   "cell_type": "code",
   "execution_count": null,
   "metadata": {},
   "outputs": [],
   "source": []
  },
  {
   "cell_type": "markdown",
   "metadata": {},
   "source": [
    "# 10. <a id='toc10_'></a>[Error Interpretation](#toc0_)"
   ]
  },
  {
   "cell_type": "code",
   "execution_count": null,
   "metadata": {},
   "outputs": [],
   "source": []
  },
  {
   "cell_type": "markdown",
   "metadata": {},
   "source": [
    "# 11. <a id='toc11_'></a>[Model Deployment](#toc0_)"
   ]
  },
  {
   "cell_type": "code",
   "execution_count": null,
   "metadata": {},
   "outputs": [],
   "source": []
  }
 ],
 "metadata": {
  "kernelspec": {
   "display_name": "ds_em_producao",
   "language": "python",
   "name": "python3"
  },
  "language_info": {
   "codemirror_mode": {
    "name": "ipython",
    "version": 3
   },
   "file_extension": ".py",
   "mimetype": "text/x-python",
   "name": "python",
   "nbconvert_exporter": "python",
   "pygments_lexer": "ipython3",
   "version": "3.11.2"
  },
  "orig_nbformat": 4
 },
 "nbformat": 4,
 "nbformat_minor": 2
}
